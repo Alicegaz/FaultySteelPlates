{
 "cells": [
  {
   "cell_type": "code",
   "execution_count": 80,
   "metadata": {},
   "outputs": [],
   "source": [
    "#import xgboost as xgb\n",
    "\n",
    "import pandas as pd\n",
    "import numpy as np\n",
    "from sklearn.model_selection import train_test_split\n",
    "from sklearn.utils import shuffle\n",
    "from sklearn.preprocessing import StandardScaler\n",
    "import sklearn.datasets as ds\n",
    "from sklearn.metrics import classification_report, confusion_matrix, accuracy_score\n",
    "from sklearn import metrics\n",
    "\n",
    "from sklearn.ensemble import RandomForestClassifier\n",
    "from sklearn.decomposition import PCA\n",
    "from sklearn.cluster import DBSCAN\n",
    "from sklearn.ensemble import ExtraTreesClassifier\n",
    "from sklearn.feature_selection import RFE\n",
    "from sklearn.svm import SVC\n",
    "from sklearn.linear_model import LogisticRegression\n",
    "from sklearn.svm import SVC\n",
    "\n",
    "import lightgbm as lgb\n",
    "\n",
    "import matplotlib.pyplot as plt\n",
    "import seaborn as sns"
   ]
  },
  {
   "cell_type": "code",
   "execution_count": 7,
   "metadata": {},
   "outputs": [],
   "source": [
    "def draw_confusion_matrix(cm):\n",
    "    plt.figure(figsize=(12,8))\n",
    "    sns.heatmap(cm,annot=True,fmt=\"d\") \n",
    "    plt.title(\"Confusion Matrix\")\n",
    "    plt.ylabel('True label')\n",
    "    plt.xlabel('Predicted label')\n",
    "    plt.show()"
   ]
  },
  {
   "cell_type": "markdown",
   "metadata": {},
   "source": [
    "## Data Preparation "
   ]
  },
  {
   "cell_type": "markdown",
   "metadata": {},
   "source": [
    "### Load the Data"
   ]
  },
  {
   "cell_type": "code",
   "execution_count": 8,
   "metadata": {},
   "outputs": [],
   "source": [
    "train_df = pd.read_csv('train_data.csv')\n",
    "test_df = pd.read_csv('test_data.csv')\n",
    "\n",
    "train_df = shuffle(train_df)\n",
    "test_df = shuffle(test_df)\n",
    "\n",
    "X = train_df.iloc[:, :27] \n",
    "y = train_df.iloc[:, 27:34]\n",
    "\n",
    "columns = X.columns\n",
    "labels = [np.argmax(row) for row in y.values]"
   ]
  },
  {
   "cell_type": "code",
   "execution_count": 188,
   "metadata": {},
   "outputs": [],
   "source": [
    "np.save('x.npy', X)\n",
    "\n",
    "np.save('y.npy', labels)"
   ]
  },
  {
   "cell_type": "markdown",
   "metadata": {},
   "source": [
    "### Train test split"
   ]
  },
  {
   "cell_type": "code",
   "execution_count": 203,
   "metadata": {},
   "outputs": [],
   "source": [
    "X_train_nsc, X_test_nsc, y_train, y_test = train_test_split(X, y, test_size=0.3, random_state=42)"
   ]
  },
  {
   "cell_type": "code",
   "execution_count": 213,
   "metadata": {},
   "outputs": [],
   "source": [
    "np.save('X_train_nsc.npy', np.array(X_train_nsc))\n",
    "np.save('X_test_nsc.npy', np.array(X_test_nsc))\n",
    "np.save('y_train.npy', y_train)\n",
    "np.save('y_test.npy', y_test)"
   ]
  },
  {
   "cell_type": "markdown",
   "metadata": {},
   "source": [
    "### Normalize the data using z-scaler"
   ]
  },
  {
   "cell_type": "code",
   "execution_count": 205,
   "metadata": {
    "scrolled": true
   },
   "outputs": [
    {
     "name": "stderr",
     "output_type": "stream",
     "text": [
      "/home/gazizullina149/anaconda3/lib/python3.6/site-packages/sklearn/preprocessing/data.py:625: DataConversionWarning: Data with input dtype int64, float64 were all converted to float64 by StandardScaler.\n",
      "  return self.partial_fit(X, y)\n",
      "/home/gazizullina149/anaconda3/lib/python3.6/site-packages/sklearn/base.py:462: DataConversionWarning: Data with input dtype int64, float64 were all converted to float64 by StandardScaler.\n",
      "  return self.fit(X, **fit_params).transform(X)\n",
      "/home/gazizullina149/anaconda3/lib/python3.6/site-packages/ipykernel_launcher.py:3: DataConversionWarning: Data with input dtype int64, float64 were all converted to float64 by StandardScaler.\n",
      "  This is separate from the ipykernel package so we can avoid doing imports until\n"
     ]
    }
   ],
   "source": [
    "sc = StandardScaler()\n",
    "X_train = sc.fit_transform(X_train_nsc)\n",
    "X_test = sc.transform(X_test_nsc)"
   ]
  },
  {
   "cell_type": "code",
   "execution_count": 11,
   "metadata": {},
   "outputs": [],
   "source": [
    "labels_train = [np.argmax(row) for row in y_train.values]\n",
    "labels_test = [np.argmax(row) for row in y_test.values]"
   ]
  },
  {
   "cell_type": "markdown",
   "metadata": {},
   "source": [
    "### Feature Selection"
   ]
  },
  {
   "cell_type": "markdown",
   "metadata": {},
   "source": [
    "#### 1. PCA"
   ]
  },
  {
   "cell_type": "code",
   "execution_count": 12,
   "metadata": {},
   "outputs": [
    {
     "data": {
      "text/plain": [
       "[<matplotlib.lines.Line2D at 0x7fa308e96f60>]"
      ]
     },
     "execution_count": 12,
     "metadata": {},
     "output_type": "execute_result"
    },
    {
     "data": {
      "image/png": "[encoded data removed]",
      "text/plain": [
       "<matplotlib.figure.Figure at 0x7fa308e96c50>"
      ]
     },
     "metadata": {
      "needs_background": "light"
     },
     "output_type": "display_data"
    }
   ],
   "source": [
    "pca_trf = PCA()\n",
    "pca_trf.fit(X_train)\n",
    "\n",
    "plt.semilogy(pca_trf.explained_variance_ratio_, '--o')\n",
    "plt.semilogy(pca_trf.explained_variance_ratio_.cumsum(), '--o')"
   ]
  },
  {
   "cell_type": "markdown",
   "metadata": {},
   "source": [
    "x - principal components, y-variance\n",
    "we have to choose number of components from 3 to 6 to be close to 100% of variance"
   ]
  },
  {
   "cell_type": "code",
   "execution_count": 13,
   "metadata": {},
   "outputs": [],
   "source": [
    "pca = PCA(n_components=15)\n",
    "X_train_pca = pca.fit_transform(X_train)\n",
    "X_test_pca = pca.transform(X_test)"
   ]
  },
  {
   "cell_type": "code",
   "execution_count": 14,
   "metadata": {},
   "outputs": [
    {
     "name": "stderr",
     "output_type": "stream",
     "text": [
      "/home/gazizullina149/anaconda3/lib/python3.6/site-packages/ipykernel_launcher.py:1: RuntimeWarning: invalid value encountered in log\n",
      "  \"\"\"Entry point for launching an IPython kernel.\n"
     ]
    },
    {
     "data": {
      "text/plain": [
       "<matplotlib.axes._subplots.AxesSubplot at 0x7fa2fc2928d0>"
      ]
     },
     "execution_count": 14,
     "metadata": {},
     "output_type": "execute_result"
    },
    {
     "data": {
      "image/png": "[encoded data removed]",
      "text/plain": [
       "<matplotlib.figure.Figure at 0x7fa2fc34d5c0>"
      ]
     },
     "metadata": {
      "needs_background": "light"
     },
     "output_type": "display_data"
    }
   ],
   "source": [
    "sns.heatmap(np.log(pca_trf.inverse_transform(np.eye(X_train.shape[1]))), cmap=\"hot\", cbar=False)"
   ]
  },
  {
   "cell_type": "code",
   "execution_count": 190,
   "metadata": {},
   "outputs": [],
   "source": [
    "np.save('X_train_pca.npy', X_train_pca)\n",
    "np.save('X_test_pca.npy', X_test_pca)"
   ]
  },
  {
   "cell_type": "markdown",
   "metadata": {},
   "source": [
    "#### 2. Feature Importance"
   ]
  },
  {
   "cell_type": "code",
   "execution_count": 23,
   "metadata": {},
   "outputs": [
    {
     "name": "stderr",
     "output_type": "stream",
     "text": [
      "/home/gazizullina149/anaconda3/lib/python3.6/site-packages/sklearn/ensemble/forest.py:246: FutureWarning: The default value of n_estimators will change from 10 in version 0.20 to 100 in 0.22.\n",
      "  \"10 in version 0.20 to 100 in 0.22.\", FutureWarning)\n"
     ]
    },
    {
     "data": {
      "text/plain": [
       "[(10, 'Length_of_Conveyer', 0.074887798289634294),\n",
       " (13, 'Steel_Plate_Thickness', 0.064297331532621169),\n",
       " (1, 'X_Maximum', 0.049751338848677017),\n",
       " (7, 'Sum_of_Luminosity', 0.049120426270919601),\n",
       " (0, 'X_Minimum', 0.043878002298930151),\n",
       " (8, 'Minimum_of_Luminosity', 0.042436595552835993),\n",
       " (4, 'Pixels_Areas', 0.042261764066904378),\n",
       " (11, 'TypeOfSteel_A300', 0.041231952131920997),\n",
       " (2, 'Y_Minimum', 0.037948091510048777),\n",
       " (5, 'X_Perimeter', 0.037691787196978285),\n",
       " (23, 'Log_Y_Index', 0.036988111689695659),\n",
       " (9, 'Maximum_of_Luminosity', 0.036582183507401653),\n",
       " (14, 'Edges_Index', 0.035383544665474824),\n",
       " (12, 'TypeOfSteel_A400', 0.035175676218910386),\n",
       " (25, 'Luminosity_Index', 0.033739427390742024),\n",
       " (16, 'Square_Index', 0.033265925080773286),\n",
       " (22, 'Log_X_Index', 0.032647585865147273),\n",
       " (24, 'Orientation_Index', 0.032294225834926943),\n",
       " (15, 'Empty_Index', 0.032077498076474323),\n",
       " (6, 'Y_Perimeter', 0.032039493424658574),\n",
       " (21, 'LogOfAreas', 0.03001218514789571),\n",
       " (18, 'Edges_X_Index', 0.028416123326417735),\n",
       " (19, 'Edges_Y_Index', 0.028384915237106002),\n",
       " (3, 'Y_Maximum', 0.026356254159052434),\n",
       " (17, 'Outside_X_Index', 0.023359566518462792),\n",
       " (20, 'Outside_Global_Index', 0.02056112932732428),\n",
       " (26, 'SigmoidOfAreas', 0.019211066830065453)]"
      ]
     },
     "execution_count": 23,
     "metadata": {},
     "output_type": "execute_result"
    }
   ],
   "source": [
    "tr_cls = ExtraTreesClassifier()\n",
    "tr_cls.fit(X_train, y_train)\n",
    "feature_importances = list(zip(range(0, len(columns)), columns, tr_cls.feature_importances_))\n",
    "sorted(feature_importances, key=lambda elem: -elem[2])"
   ]
  },
  {
   "cell_type": "markdown",
   "metadata": {},
   "source": [
    "#### 3. Recursive Feature Elimination"
   ]
  },
  {
   "cell_type": "markdown",
   "metadata": {},
   "source": [
    "fit on logistic regression, likely poorly fit the distribution"
   ]
  },
  {
   "cell_type": "code",
   "execution_count": 41,
   "metadata": {},
   "outputs": [
    {
     "name": "stdout",
     "output_type": "stream",
     "text": [
      "Num Features: 10\n"
     ]
    }
   ],
   "source": [
    "params = {'max_depth': 4, 'eta':1, 'silent':1, 'objective':'multi:softprob', 'num_class': 7, 'early_stopping_rounds':60}\n",
    "epochs = 10\n",
    "num_features = 10\n",
    "\n",
    "#svm = SVC(C=1e-3, gamma=1e-1, kernel='rbf')\n",
    "clf = LogisticRegression(multi_class='ovr', solver='lbfgs')\n",
    "rfe = RFE(clf, num_features)\n",
    "rfe = rfe.fit(X_train, labels_train)\n",
    "\n",
    "print(\"Num Features: {:d}\".format(rfe.n_features_))\n",
    "selected_features = sorted(list(zip(rfe.support_, rfe.ranking_, columns)), key=lambda elem: elem[1])\n",
    "#bst = xgb.train(params, X_train, epochs) \n",
    "#preds = bst.predict(y_train)"
   ]
  },
  {
   "cell_type": "code",
   "execution_count": 42,
   "metadata": {},
   "outputs": [
    {
     "data": {
      "text/plain": [
       "[(True, 1, 'X_Maximum'),\n",
       " (True, 1, 'Sum_of_Luminosity'),\n",
       " (True, 1, 'Length_of_Conveyer'),\n",
       " (True, 1, 'TypeOfSteel_A400'),\n",
       " (True, 1, 'Steel_Plate_Thickness'),\n",
       " (True, 1, 'Square_Index'),\n",
       " (True, 1, 'Edges_X_Index'),\n",
       " (True, 1, 'LogOfAreas'),\n",
       " (True, 1, 'Log_X_Index'),\n",
       " (True, 1, 'Orientation_Index'),\n",
       " (False, 2, 'TypeOfSteel_A300'),\n",
       " (False, 3, 'Log_Y_Index'),\n",
       " (False, 4, 'Edges_Y_Index'),\n",
       " (False, 5, 'Y_Perimeter'),\n",
       " (False, 6, 'Maximum_of_Luminosity'),\n",
       " (False, 7, 'Minimum_of_Luminosity'),\n",
       " (False, 8, 'Y_Maximum'),\n",
       " (False, 9, 'Edges_Index'),\n",
       " (False, 10, 'Empty_Index'),\n",
       " (False, 11, 'X_Perimeter'),\n",
       " (False, 12, 'X_Minimum'),\n",
       " (False, 13, 'Pixels_Areas'),\n",
       " (False, 14, 'Outside_Global_Index'),\n",
       " (False, 15, 'Y_Minimum'),\n",
       " (False, 16, 'Luminosity_Index'),\n",
       " (False, 17, 'Outside_X_Index'),\n",
       " (False, 18, 'SigmoidOfAreas')]"
      ]
     },
     "execution_count": 42,
     "metadata": {},
     "output_type": "execute_result"
    }
   ],
   "source": [
    "selected_features"
   ]
  },
  {
   "cell_type": "markdown",
   "metadata": {},
   "source": [
    "random forests are more suitable for the problem so\n",
    "\n",
    "use rfe with the random forests with the purporse to tackle the problem of random forests to not being able to identify strong predictors due to strong correlation between predictors"
   ]
  },
  {
   "cell_type": "code",
   "execution_count": 27,
   "metadata": {},
   "outputs": [
    {
     "name": "stdout",
     "output_type": "stream",
     "text": [
      "Fitting estimator with 27 features.\n",
      "Fitting estimator with 26 features.\n",
      "Fitting estimator with 25 features.\n",
      "Fitting estimator with 24 features.\n",
      "Fitting estimator with 23 features.\n",
      "Fitting estimator with 22 features.\n",
      "Fitting estimator with 21 features.\n",
      "Fitting estimator with 20 features.\n",
      "Fitting estimator with 19 features.\n",
      "Fitting estimator with 18 features.\n",
      "Fitting estimator with 17 features.\n",
      "Fitting estimator with 16 features.\n",
      "Fitting estimator with 15 features.\n",
      "Fitting estimator with 14 features.\n"
     ]
    }
   ],
   "source": [
    "class RandomForestClassifierWithCoef(RandomForestClassifier):\n",
    "    def fit(self, *args, **kwargs):\n",
    "        super(RandomForestClassifierWithCoef, self).fit(*args, **kwargs)\n",
    "        self.coef_ = self.feature_importances_\n",
    "        \n",
    "rf = RandomForestClassifierWithCoef(n_estimators=500, min_samples_leaf=5, n_jobs=-1)\n",
    "rfecv = RFE(estimator=rf, verbose=2)\n",
    "selector=rfecv.fit(X_train, labels_train)"
   ]
  },
  {
   "cell_type": "code",
   "execution_count": 45,
   "metadata": {},
   "outputs": [
    {
     "name": "stdout",
     "output_type": "stream",
     "text": [
      "Num Features: 13\n"
     ]
    },
    {
     "data": {
      "text/plain": [
       "[(True, 1, 'X_Minimum'),\n",
       " (True, 1, 'X_Maximum'),\n",
       " (True, 1, 'Pixels_Areas'),\n",
       " (True, 1, 'Sum_of_Luminosity'),\n",
       " (True, 1, 'Minimum_of_Luminosity'),\n",
       " (True, 1, 'Length_of_Conveyer'),\n",
       " (True, 1, 'Steel_Plate_Thickness'),\n",
       " (True, 1, 'Square_Index'),\n",
       " (True, 1, 'Outside_X_Index'),\n",
       " (True, 1, 'LogOfAreas'),\n",
       " (True, 1, 'Log_X_Index'),\n",
       " (True, 1, 'Orientation_Index'),\n",
       " (True, 1, 'Luminosity_Index'),\n",
       " (False, 2, 'TypeOfSteel_A300'),\n",
       " (False, 3, 'Y_Minimum'),\n",
       " (False, 4, 'X_Perimeter'),\n",
       " (False, 5, 'Empty_Index'),\n",
       " (False, 6, 'Maximum_of_Luminosity'),\n",
       " (False, 7, 'Edges_Y_Index'),\n",
       " (False, 8, 'Edges_Index'),\n",
       " (False, 9, 'TypeOfSteel_A400'),\n",
       " (False, 10, 'Edges_X_Index'),\n",
       " (False, 11, 'Y_Maximum'),\n",
       " (False, 12, 'SigmoidOfAreas'),\n",
       " (False, 13, 'Log_Y_Index'),\n",
       " (False, 14, 'Y_Perimeter'),\n",
       " (False, 15, 'Outside_Global_Index')]"
      ]
     },
     "execution_count": 45,
     "metadata": {},
     "output_type": "execute_result"
    }
   ],
   "source": [
    "print(\"Num Features: {:d}\".format(selector.n_features_))\n",
    "selected_features = sorted(list(zip(selector.support_, selector.ranking_, columns)), key=lambda elem: elem[1])\n",
    "selected_features"
   ]
  },
  {
   "cell_type": "code",
   "execution_count": 50,
   "metadata": {},
   "outputs": [],
   "source": [
    "rfe_features = sorted(list(zip(selector.support_, range(0, len(columns)), selector.ranking_, columns)), key=lambda elem: elem[2])\n",
    "rfe_features = [l[1] for l in rfe_features if l[0]==True ]"
   ]
  },
  {
   "cell_type": "code",
   "execution_count": 209,
   "metadata": {},
   "outputs": [],
   "source": [
    "X_train_rfe = X_train[:, rfe_features]\n",
    "X_test_rfe = X_test[:, rfe_features]"
   ]
  },
  {
   "cell_type": "code",
   "execution_count": 197,
   "metadata": {},
   "outputs": [],
   "source": [
    "np.save('X_train_rfe.npy', X_train_rfe)\n",
    "np.save('X_test_rfe.npy', X_test_rfe)"
   ]
  },
  {
   "cell_type": "code",
   "execution_count": 212,
   "metadata": {},
   "outputs": [],
   "source": [
    "X_train_rfe_nsc = np.array(X_train_nsc)[:, rfe_features]\n",
    "X_test_rfe_nsc = np.array(X_test_nsc)[:, rfe_features]\n",
    "np.save('X_train_rfe_nsc.npy', X_train_rfe_nsc)\n",
    "np.save('X_test_rfe_nsc.npy', X_test_rfe_nsc)"
   ]
  },
  {
   "cell_type": "markdown",
   "metadata": {},
   "source": [
    "#### 4. DBSCAN"
   ]
  },
  {
   "cell_type": "markdown",
   "metadata": {},
   "source": [
    "plot k distances graph for all the features to select the optimal eps for the DBSCAN"
   ]
  },
  {
   "cell_type": "code",
   "execution_count": 64,
   "metadata": {
    "scrolled": false
   },
   "outputs": [
    {
     "name": "stderr",
     "output_type": "stream",
     "text": [
      "/home/gazizullina149/anaconda3/lib/python3.6/site-packages/ipykernel_launcher.py:5: RuntimeWarning: invalid value encountered in sqrt\n",
      "  \"\"\"\n"
     ]
    },
    {
     "data": {
      "image/png": "[encoded data removed]",
      "text/plain": [
       "<matplotlib.figure.Figure at 0x7fa2fc12f2b0>"
      ]
     },
     "metadata": {
      "needs_background": "light"
     },
     "output_type": "display_data"
    }
   ],
   "source": [
    "def k_distances2(x, k):\n",
    "    dim0 = x.shape[0]\n",
    "    dim1 = x.shape[1]\n",
    "    p=-2*x.dot(x.T)+np.sum(x**2, axis=1).T+ np.repeat(np.sum(x**2, axis=1),dim0,axis=0).reshape(dim0,dim0)\n",
    "    p = np.sqrt(p)\n",
    "    p.sort(axis=1)\n",
    "    p=p[:,:k]\n",
    "    pm= p.flatten()\n",
    "    pm= np.sort(pm)\n",
    "    return p, pm\n",
    "m, m2= k_distances2(X_train, 27)\n",
    "plt.plot(m2)\n",
    "plt.ylabel(\"k-distances\")\n",
    "plt.grid(True)\n",
    "plt.show()"
   ]
  },
  {
   "cell_type": "markdown",
   "metadata": {},
   "source": [
    "select eps in the are of the greatest inflection (4, 6)"
   ]
  },
  {
   "cell_type": "code",
   "execution_count": 136,
   "metadata": {},
   "outputs": [
    {
     "name": "stdout",
     "output_type": "stream",
     "text": [
      "[EPS] 3\n",
      "Estimated number of clusters: 7\n",
      "Estimated number of noise points: 67, 7%\n",
      "Homogeneity: 0.319\n",
      "Completeness: 0.381\n",
      "V-measure: 0.347\n",
      "Adjusted Rand Index: 0.188\n",
      "Adjusted Mutual Information: 0.337\n",
      "Silhouette Coefficient: 0.171\n",
      "\n",
      "\n",
      "[EPS] 4\n",
      "Estimated number of clusters: 3\n",
      "Estimated number of noise points: 18, 1%\n",
      "Homogeneity: 0.012\n",
      "Completeness: 0.103\n",
      "V-measure: 0.021\n",
      "Adjusted Rand Index: -0.012\n",
      "Adjusted Mutual Information: 0.011\n",
      "Silhouette Coefficient: 0.255\n",
      "\n",
      "\n",
      "[EPS] 5\n",
      "Estimated number of clusters: 1\n",
      "Estimated number of noise points: 7, 0%\n",
      "Homogeneity: 0.003\n",
      "Completeness: 0.106\n",
      "V-measure: 0.006\n",
      "Adjusted Rand Index: -0.003\n",
      "Adjusted Mutual Information: 0.002\n",
      "Silhouette Coefficient: 0.427\n",
      "\n",
      "\n",
      "[EPS] 6\n",
      "Estimated number of clusters: 1\n",
      "Estimated number of noise points: 3, 0%\n",
      "Homogeneity: 0.002\n",
      "Completeness: 0.159\n",
      "V-measure: 0.004\n",
      "Adjusted Rand Index: -0.002\n",
      "Adjusted Mutual Information: 0.001\n",
      "Silhouette Coefficient: 0.482\n",
      "\n",
      "\n"
     ]
    }
   ],
   "source": [
    "for eps in range(3, 7):\n",
    "    dbscan = DBSCAN(eps=eps, min_samples=4)\n",
    "    model = dbscan.fit(X_train)\n",
    "    labels = model.labels_\n",
    "    core_samples = np.zeros_like(labels, dtype=bool)\n",
    "\n",
    "    core_samples[dbscan.core_sample_indices_] = True\n",
    "\n",
    "    n_clusters_ = len(set(labels)) - (1 if -1 in labels else 0)\n",
    "    n_noise_ = list(labels).count(-1)\n",
    "    print('[EPS] {}'.format(eps))\n",
    "    print('Estimated number of clusters: %d' % n_clusters_)\n",
    "    print('Estimated number of noise points: {}, {}%'.format(n_noise_, int(n_noise_*100/X_train.shape[0])))\n",
    "    print(\"Homogeneity: %0.3f\" % metrics.homogeneity_score(labels_train, labels))\n",
    "    print(\"Completeness: %0.3f\" % metrics.completeness_score(labels_train, labels))\n",
    "    print(\"V-measure: %0.3f\" % metrics.v_measure_score(labels_train, labels))\n",
    "    print(\"Adjusted Rand Index: %0.3f\"\n",
    "          % metrics.adjusted_rand_score(labels_train, labels))\n",
    "    print(\"Adjusted Mutual Information: %0.3f\"\n",
    "          % metrics.adjusted_mutual_info_score(labels_train, labels, average_method='arithmetic'))\n",
    "    print(\"Silhouette Coefficient: %0.3f\"\n",
    "          % metrics.silhouette_score(X_train, labels))\n",
    "    print('\\n')\n"
   ]
  },
  {
   "cell_type": "markdown",
   "metadata": {},
   "source": [
    "so we select eps=3 or 4"
   ]
  },
  {
   "cell_type": "code",
   "execution_count": 163,
   "metadata": {},
   "outputs": [],
   "source": [
    "dbscan = DBSCAN(eps=4, min_samples=4)\n",
    "model = dbscan.fit(X_train)\n",
    "labels = model.labels_\n",
    "\n",
    "n_clusters_ = len(set(labels)) - (1 if -1 in labels else 0)\n",
    "centers = np.zeros((n_clusters_, X_train.shape[1]))\n",
    "for i in range(0, n_clusters_):\n",
    "    cluster_points = X_train[labels == i]\n",
    "    cluster_mean = np.mean(cluster_points, axis=0)\n",
    "    centers[i, :] = cluster_mean"
   ]
  },
  {
   "cell_type": "markdown",
   "metadata": {},
   "source": [
    "put each cluster center as a feature to the point from that cluster"
   ]
  },
  {
   "cell_type": "code",
   "execution_count": 199,
   "metadata": {},
   "outputs": [],
   "source": [
    "b = np.zeros_like(X_train)\n",
    "X_train_dbscan = np.concatenate((X_train, b), axis=1)\n",
    "b = np.zeros_like(X_test)\n",
    "X_test_dbscan = np.concatenate((X_test, b), axis=1)"
   ]
  },
  {
   "cell_type": "code",
   "execution_count": 200,
   "metadata": {},
   "outputs": [],
   "source": [
    "for i in range(0, centers.shape[0]):\n",
    "    X_train_dbscan[:5, 27:] = centers[i, :]\n",
    "    X_test_dbscan[:5, 27:] = centers[i, :]"
   ]
  },
  {
   "cell_type": "code",
   "execution_count": 201,
   "metadata": {},
   "outputs": [],
   "source": [
    "np.save('X_train_dbscan.npy', X_train_dbscan)\n",
    "np.save('X_test_dbscan.npy', X_test_dbscan)"
   ]
  },
  {
   "cell_type": "code",
   "execution_count": 206,
   "metadata": {},
   "outputs": [],
   "source": [
    "b = np.zeros_like(X_train)\n",
    "X_train_dbscan_nsc = np.concatenate((X_train_nsc, b), axis=1)\n",
    "b = np.zeros_like(X_test)\n",
    "X_test_dbscan_nsc = np.concatenate((X_test_nsc, b), axis=1)\n",
    "for i in range(0, centers.shape[0]):\n",
    "    X_train_dbscan[:5, 27:] = centers[i, :]\n",
    "    X_test_dbscan[:5, 27:] = centers[i, :]\n",
    "np.save('X_train_dbscan_nsc.npy', X_train_dbscan_nsc)\n",
    "np.save('X_test_dbscan_nsc.npy', X_test_dbscan_nsc)"
   ]
  },
  {
   "cell_type": "markdown",
   "metadata": {},
   "source": [
    "add new features to the test data"
   ]
  },
  {
   "cell_type": "code",
   "execution_count": 214,
   "metadata": {},
   "outputs": [],
   "source": [
    "b = np.zeros_like(test_df)\n",
    "test_dbscan_nsc = np.concatenate((test_df, b), axis=1)\n",
    "np.save('test_dbscan_nsc.npy', X_test_dbscan_nsc)"
   ]
  },
  {
   "cell_type": "markdown",
   "metadata": {},
   "source": [
    "## Train Models"
   ]
  },
  {
   "cell_type": "code",
   "execution_count": null,
   "metadata": {},
   "outputs": [],
   "source": [
    "kfolds = cross_validation"
   ]
  },
  {
   "cell_type": "code",
   "execution_count": 129,
   "metadata": {},
   "outputs": [
    {
     "data": {
      "image/png": "[encoded data removed]",
      "text/plain": [
       "<matplotlib.figure.Figure at 0x7fa2f7f32668>"
      ]
     },
     "metadata": {
      "needs_background": "light"
     },
     "output_type": "display_data"
    },
    {
     "name": "stdout",
     "output_type": "stream",
     "text": [
      "0.714652956298\n",
      "              precision    recall  f1-score   support\n",
      "\n",
      "           0       0.14      0.33      0.20        12\n",
      "           1       0.81      0.88      0.84        33\n",
      "           2       0.92      0.95      0.94        76\n",
      "           3       1.00      0.85      0.92        20\n",
      "           4       0.56      0.83      0.67         6\n",
      "           5       0.56      0.62      0.59        77\n",
      "           6       0.76      0.62      0.68       165\n",
      "\n",
      "   micro avg       0.71      0.71      0.71       389\n",
      "   macro avg       0.68      0.73      0.69       389\n",
      "weighted avg       0.75      0.71      0.73       389\n",
      "\n"
     ]
    }
   ],
   "source": [
    "clf=RandomForestClassifier(random_state=17, min_samples_split=2, n_estimators=55)\n",
    "clf.fit(X_train_pca, labels_train)\n",
    "y_pred=clf.predict(X_test_pca)\n",
    "cm = confusion_matrix(labels_test, y_pred)\n",
    "draw_confusion_matrix(cm)\n",
    "print(accuracy_score(y_pred, labels_test))\n",
    "print(classification_report(y_pred, labels_test))"
   ]
  },
  {
   "cell_type": "code",
   "execution_count": 23,
   "metadata": {},
   "outputs": [
    {
     "data": {
      "image/png": "[encoded data removed]",
      "text/plain": [
       "<matplotlib.figure.Figure at 0x10c6df3c8>"
      ]
     },
     "metadata": {
      "needs_background": "light"
     },
     "output_type": "display_data"
    },
    {
     "name": "stdout",
     "output_type": "stream",
     "text": [
      "0.7300771208226221\n",
      "             precision    recall  f1-score   support\n",
      "\n",
      "          0       0.32      0.83      0.47        12\n",
      "          1       0.94      0.97      0.96        33\n",
      "          2       0.89      0.96      0.92        76\n",
      "          3       0.78      0.88      0.82         8\n",
      "          4       0.56      1.00      0.72         9\n",
      "          5       0.60      0.54      0.57        85\n",
      "          6       0.76      0.64      0.70       166\n",
      "\n",
      "avg / total       0.75      0.73      0.73       389\n",
      "\n"
     ]
    }
   ],
   "source": [
    "clf=RandomForestClassifier(random_state=17, min_samples_split=2, n_estimators=55)\n",
    "clf.fit(X_train, labels_train)\n",
    "y_pred=clf.predict(X_test)\n",
    "cm = confusion_matrix(labels_test, y_pred)\n",
    "draw_confusion_matrix(cm)\n",
    "print(accuracy_score(y_pred, labels_test))\n",
    "print(classification_report(y_pred, labels_test))"
   ]
  },
  {
   "cell_type": "code",
   "execution_count": 21,
   "metadata": {},
   "outputs": [
    {
     "data": {
      "image/png": "[encoded data removed]",
      "text/plain": [
       "<matplotlib.figure.Figure at 0x10c4035c0>"
      ]
     },
     "metadata": {
      "needs_background": "light"
     },
     "output_type": "display_data"
    },
    {
     "name": "stdout",
     "output_type": "stream",
     "text": [
      "0.7017994858611826\n",
      "             precision    recall  f1-score   support\n",
      "\n",
      "          0       0.29      0.64      0.40        14\n",
      "          1       0.94      0.86      0.90        37\n",
      "          2       0.90      0.96      0.93        77\n",
      "          3       0.78      0.88      0.82         8\n",
      "          4       0.31      1.00      0.48         5\n",
      "          5       0.61      0.50      0.55        94\n",
      "          6       0.71      0.64      0.67       154\n",
      "\n",
      "avg / total       0.73      0.70      0.71       389\n",
      "\n"
     ]
    }
   ],
   "source": [
    "clf=SVC()\n",
    "clf.fit(X_train_pca, labels_train)\n",
    "y_pred=clf.predict(X_test_pca)\n",
    "cm = confusion_matrix(labels_test, y_pred)\n",
    "draw_confusion_matrix(cm)\n",
    "print(accuracy_score(y_pred, labels_test))\n",
    "print(classification_report(y_pred, labels_test))"
   ]
  },
  {
   "cell_type": "code",
   "execution_count": null,
   "metadata": {},
   "outputs": [],
   "source": []
  }
 ],
 "metadata": {
  "kernelspec": {
   "display_name": "Python 3",
   "language": "python",
   "name": "python3"
  },
  "language_info": {
   "codemirror_mode": {
    "name": "ipython",
    "version": 3
   },
   "file_extension": ".py",
   "mimetype": "text/x-python",
   "name": "python",
   "nbconvert_exporter": "python",
   "pygments_lexer": "ipython3",
   "version": "3.6.2"
  }
 },
 "nbformat": 4,
 "nbformat_minor": 2
}
